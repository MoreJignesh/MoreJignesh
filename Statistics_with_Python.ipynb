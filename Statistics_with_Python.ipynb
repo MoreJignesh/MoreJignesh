{
  "nbformat": 4,
  "nbformat_minor": 0,
  "metadata": {
    "colab": {
      "provenance": [],
      "authorship_tag": "ABX9TyOhGB88bJGB2SiDLbBKHL9T",
      "include_colab_link": true
    },
    "kernelspec": {
      "name": "python3",
      "display_name": "Python 3"
    },
    "language_info": {
      "name": "python"
    }
  },
  "cells": [
    {
      "cell_type": "markdown",
      "metadata": {
        "id": "view-in-github",
        "colab_type": "text"
      },
      "source": [
        "<a href=\"https://colab.research.google.com/github/MoreJignesh/MoreJignesh/blob/main/Statistics_with_Python.ipynb\" target=\"_parent\"><img src=\"https://colab.research.google.com/assets/colab-badge.svg\" alt=\"Open In Colab\"/></a>"
      ]
    },
    {
      "cell_type": "markdown",
      "source": [
        "#Statistics Practical Implementation\n",
        "\n",
        "##Measure of Central Tendancy\n",
        "\n",
        "1. Mean\n",
        "2. Median\n",
        "3. Mode\n"
      ],
      "metadata": {
        "id": "nV3n4y6Bw3Bm"
      }
    },
    {
      "cell_type": "code",
      "execution_count": 40,
      "metadata": {
        "id": "sJASs6A_vpta"
      },
      "outputs": [],
      "source": [
        "import numpy as np\n",
        "import statistics\n",
        "import seaborn as sns"
      ]
    },
    {
      "cell_type": "code",
      "source": [
        "ages = [23,24,32,26,72,55,67,48,61,16,18,26,56,91,12,65,48,37,220]"
      ],
      "metadata": {
        "id": "b6QDoNIPwqab"
      },
      "execution_count": 41,
      "outputs": []
    },
    {
      "cell_type": "code",
      "source": [
        "print(np.mean(ages))\n",
        "print(np.median(ages))"
      ],
      "metadata": {
        "colab": {
          "base_uri": "https://localhost:8080/"
        },
        "id": "K8-clSDGwlOF",
        "outputId": "ed9ad4ef-dfde-40ea-b960-0d21a24c0cc8"
      },
      "execution_count": 42,
      "outputs": [
        {
          "output_type": "stream",
          "name": "stdout",
          "text": [
            "52.473684210526315\n",
            "48.0\n"
          ]
        }
      ]
    },
    {
      "cell_type": "markdown",
      "source": [
        "###Findings\n",
        "\n",
        "From the above we can notice that there was an outlier within the data but we can notice it in the difference of Mean and median (feature engineering).\n",
        "It's clear that the mean is significantly impacted by the outlier, whereas the median remains relatively stable."
      ],
      "metadata": {
        "id": "zYtR4PhCw0EV"
      }
    },
    {
      "cell_type": "code",
      "source": [
        "ages2 = [23,24,32,26,72,55,67,48,61,16,18,26,56,91,12,65,48,37]"
      ],
      "metadata": {
        "id": "kHIzAtT8y-dq"
      },
      "execution_count": 43,
      "outputs": []
    },
    {
      "cell_type": "code",
      "source": [
        "print(np.mean(ages2))\n",
        "print(np.median(ages2))"
      ],
      "metadata": {
        "colab": {
          "base_uri": "https://localhost:8080/"
        },
        "id": "2jwDi2qgzB5u",
        "outputId": "61674257-b845-4a85-9e0c-0da4febcc119"
      },
      "execution_count": 44,
      "outputs": [
        {
          "output_type": "stream",
          "name": "stdout",
          "text": [
            "43.166666666666664\n",
            "42.5\n"
          ]
        }
      ]
    },
    {
      "cell_type": "code",
      "source": [
        "print(statistics.mean(ages))\n",
        "print(statistics.median(ages))"
      ],
      "metadata": {
        "colab": {
          "base_uri": "https://localhost:8080/"
        },
        "id": "OajW1IjFzz_L",
        "outputId": "11caeb6e-02c4-4aa7-c6f1-6d2ab56c1d17"
      },
      "execution_count": 45,
      "outputs": [
        {
          "output_type": "stream",
          "name": "stdout",
          "text": [
            "52.473684210526315\n",
            "48\n"
          ]
        }
      ]
    },
    {
      "cell_type": "code",
      "source": [
        "print(statistics.mode(ages))"
      ],
      "metadata": {
        "colab": {
          "base_uri": "https://localhost:8080/"
        },
        "id": "MHnYei1G0I5J",
        "outputId": "93c6e063-920b-4fd2-cbc7-5be370877d6e"
      },
      "execution_count": 46,
      "outputs": [
        {
          "output_type": "stream",
          "name": "stdout",
          "text": [
            "26\n"
          ]
        }
      ]
    },
    {
      "cell_type": "markdown",
      "source": [
        "##Let's check how to identify outliers\n"
      ],
      "metadata": {
        "id": "x8ofL1wo0cVn"
      }
    },
    {
      "cell_type": "code",
      "source": [
        "sns.boxplot(ages)"
      ],
      "metadata": {
        "colab": {
          "base_uri": "https://localhost:8080/",
          "height": 428
        },
        "id": "eRwoZ9Bu0ZF5",
        "outputId": "ace99787-e8e8-422a-f813-77a5c5b009f8"
      },
      "execution_count": 47,
      "outputs": [
        {
          "output_type": "execute_result",
          "data": {
            "text/plain": [
              "<Axes: >"
            ]
          },
          "metadata": {},
          "execution_count": 47
        },
        {
          "output_type": "display_data",
          "data": {
            "text/plain": [
              "<Figure size 640x480 with 1 Axes>"
            ],
            "image/png": "[encoded data removed]"
          },
          "metadata": {}
        }
      ]
    },
    {
      "cell_type": "markdown",
      "source": [
        "##Five Number Summary"
      ],
      "metadata": {
        "id": "kcVsctpf1HeG"
      }
    },
    {
      "cell_type": "code",
      "source": [
        "q1, q3 = np.percentile(ages,[25,75])\n",
        "\n",
        "print(q1,q3)"
      ],
      "metadata": {
        "colab": {
          "base_uri": "https://localhost:8080/"
        },
        "id": "w-N22MgZ00Mw",
        "outputId": "22ca9e29-e159-4523-d9a9-f0e8e34fc765"
      },
      "execution_count": 48,
      "outputs": [
        {
          "output_type": "stream",
          "name": "stdout",
          "text": [
            "25.0 63.0\n"
          ]
        }
      ]
    },
    {
      "cell_type": "code",
      "source": [
        "## to check outlier [Lower fence and Higher fence]\n",
        "\n",
        "IQR = q3 - q1\n",
        "lower_fence = q1 - 1.5*(IQR)\n",
        "higher_fence = q3 + 1.5*(IQR)\n",
        "\n",
        "print(lower_fence,higher_fence)"
      ],
      "metadata": {
        "colab": {
          "base_uri": "https://localhost:8080/"
        },
        "id": "-U_bVxfa1mQE",
        "outputId": "d2cec9d9-41c8-4ae8-a490-04dce592162c"
      },
      "execution_count": 49,
      "outputs": [
        {
          "output_type": "stream",
          "name": "stdout",
          "text": [
            "-32.0 120.0\n"
          ]
        }
      ]
    },
    {
      "cell_type": "markdown",
      "source": [
        "### Findings\n",
        " Based on this we got the lower_fence and higher_fence, any number outside of this range is considered as outlier"
      ],
      "metadata": {
        "id": "pUJj2ZtgGwLz"
      }
    },
    {
      "cell_type": "markdown",
      "source": [
        "#Measure of Dispersion\n",
        "\n",
        "1. Variance\n",
        "2. Standard Deviation"
      ],
      "metadata": {
        "id": "Ztyw29htHVZn"
      }
    },
    {
      "cell_type": "code",
      "source": [
        "#Calculating Variance (sample (n-1))\n",
        "\n",
        "statistics.variance(ages)"
      ],
      "metadata": {
        "colab": {
          "base_uri": "https://localhost:8080/"
        },
        "id": "2cYDJXOe1HG0",
        "outputId": "0b3ad329-36df-4fa9-8d3d-458f60375e05"
      },
      "execution_count": 52,
      "outputs": [
        {
          "output_type": "execute_result",
          "data": {
            "text/plain": [
              "2129.2631578947367"
            ]
          },
          "metadata": {},
          "execution_count": 52
        }
      ]
    },
    {
      "cell_type": "code",
      "source": [
        "# Calculating Population Variance\n",
        "np.var(ages,axis = 0)"
      ],
      "metadata": {
        "colab": {
          "base_uri": "https://localhost:8080/"
        },
        "id": "IhnzR-A2H01C",
        "outputId": "62393f9a-03fe-4220-ecf1-a8f28a751d9a"
      },
      "execution_count": 53,
      "outputs": [
        {
          "output_type": "execute_result",
          "data": {
            "text/plain": [
              "2017.1966759002771"
            ]
          },
          "metadata": {},
          "execution_count": 53
        }
      ]
    },
    {
      "cell_type": "code",
      "source": [
        "#cross confirming variance (population = 0 , sample = 1)\n",
        "\n",
        "def variance(data,dof = 1):\n",
        "  n = len(ages)\n",
        "\n",
        "  #mean of the data\n",
        "\n",
        "  mean = sum (data)/n\n",
        "\n",
        "  #variance\n",
        "  deviation = [(x - mean) ** 2 for x in data]\n",
        "  variance = sum(deviation)/(n - dof)\n",
        "\n",
        "  return variance\n",
        "\n"
      ],
      "metadata": {
        "id": "2GdSPBXvIYPG"
      },
      "execution_count": 69,
      "outputs": []
    },
    {
      "cell_type": "code",
      "source": [
        "variance(ages,dof = 0)"
      ],
      "metadata": {
        "colab": {
          "base_uri": "https://localhost:8080/"
        },
        "id": "HTsCKTjrJ39s",
        "outputId": "93616936-ac33-4c1a-90c0-473a68ca15a1"
      },
      "execution_count": 70,
      "outputs": [
        {
          "output_type": "execute_result",
          "data": {
            "text/plain": [
              "2017.1966759002771"
            ]
          },
          "metadata": {},
          "execution_count": 70
        }
      ]
    },
    {
      "cell_type": "code",
      "source": [
        "variance(ages,dof = 1)"
      ],
      "metadata": {
        "colab": {
          "base_uri": "https://localhost:8080/"
        },
        "id": "d0WXGvllL6kp",
        "outputId": "66aaf4f2-215f-4772-d3b6-adc016c8c8d9"
      },
      "execution_count": 71,
      "outputs": [
        {
          "output_type": "execute_result",
          "data": {
            "text/plain": [
              "2129.263157894737"
            ]
          },
          "metadata": {},
          "execution_count": 71
        }
      ]
    },
    {
      "cell_type": "code",
      "source": [
        "statistics.pvariance(ages)"
      ],
      "metadata": {
        "colab": {
          "base_uri": "https://localhost:8080/"
        },
        "id": "5Vg0fl2YMNn3",
        "outputId": "383051b3-33a0-41a4-e83a-18dda529add8"
      },
      "execution_count": 72,
      "outputs": [
        {
          "output_type": "execute_result",
          "data": {
            "text/plain": [
              "2017.1966759002771"
            ]
          },
          "metadata": {},
          "execution_count": 72
        }
      ]
    },
    {
      "cell_type": "code",
      "source": [
        "import math\n",
        "std = math.sqrt(statistics.pvariance(ages))\n",
        "\n",
        "print(std)"
      ],
      "metadata": {
        "colab": {
          "base_uri": "https://localhost:8080/"
        },
        "id": "7sUYcxMAMS5A",
        "outputId": "26429141-3bf0-4ffe-cb18-b93101fd5b8e"
      },
      "execution_count": 73,
      "outputs": [
        {
          "output_type": "stream",
          "name": "stdout",
          "text": [
            "44.91321270962786\n"
          ]
        }
      ]
    },
    {
      "cell_type": "markdown",
      "source": [
        "#Histogram and PDF (frequency)"
      ],
      "metadata": {
        "id": "cnhTWU_OMoQ6"
      }
    },
    {
      "cell_type": "code",
      "source": [
        "#kde = kernel density estimate\n",
        "\n",
        "sns.histplot(ages,kde = True)"
      ],
      "metadata": {
        "colab": {
          "base_uri": "https://localhost:8080/",
          "height": 447
        },
        "id": "QXamUTbeMu3y",
        "outputId": "763d7379-386d-47c2-92f2-5c5ac3e978b0"
      },
      "execution_count": 75,
      "outputs": [
        {
          "output_type": "execute_result",
          "data": {
            "text/plain": [
              "<Axes: ylabel='Count'>"
            ]
          },
          "metadata": {},
          "execution_count": 75
        },
        {
          "output_type": "display_data",
          "data": {
            "text/plain": [
              "<Figure size 640x480 with 1 Axes>"
            ],
            "image/png": "[encoded data removed]"
          },
          "metadata": {}
        }
      ]
    },
    {
      "cell_type": "code",
      "source": [],
      "metadata": {
        "id": "YNdw45q-MhPt"
      },
      "execution_count": null,
      "outputs": []
    },
    {
      "cell_type": "markdown",
      "source": [],
      "metadata": {
        "id": "jt9jmnu-Hlyt"
      }
    }
  ]
}